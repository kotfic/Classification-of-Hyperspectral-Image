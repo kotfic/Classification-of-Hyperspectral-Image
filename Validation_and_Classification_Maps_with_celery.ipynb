{
 "cells": [
  {
   "cell_type": "code",
   "execution_count": 7,
   "metadata": {},
   "outputs": [
    {
     "name": "stderr",
     "output_type": "stream",
     "text": [
      "/home/kotfic/.venvs/hpcmp_demo_04162018/lib/python3.6/site-packages/h5py/__init__.py:36: FutureWarning: Conversion of the second argument of issubdtype from `float` to `np.floating` is deprecated. In future, it will be treated as `np.float64 == np.dtype(float).type`.\n",
      "  from ._conv import register_converters as _register_converters\n",
      "Using TensorFlow backend.\n"
     ]
    }
   ],
   "source": [
    "from IPython.display import display, Image\n",
    "from indian_pines_cnn_classification.validate import (\n",
    "    validate,\n",
    "    classify\n",
    ")"
   ]
  },
  {
   "cell_type": "code",
   "execution_count": null,
   "metadata": {},
   "outputs": [],
   "source": [
    "a = validate.delay(model_path='model.h5', test_data_path='split')"
   ]
  },
  {
   "cell_type": "code",
   "execution_count": null,
   "metadata": {},
   "outputs": [],
   "source": [
    "loss, accuracy, cls, confusion = a.get()"
   ]
  },
  {
   "cell_type": "code",
   "execution_count": null,
   "metadata": {},
   "outputs": [],
   "source": [
    "print(\"Loss:     {}\".format(loss))\n",
    "print(\"Accuracy: {}\".format(accuracy))"
   ]
  },
  {
   "cell_type": "code",
   "execution_count": null,
   "metadata": {},
   "outputs": [],
   "source": [
    "print(cls)"
   ]
  },
  {
   "cell_type": "code",
   "execution_count": null,
   "metadata": {},
   "outputs": [],
   "source": [
    "print(confusion)"
   ]
  },
  {
   "cell_type": "code",
   "execution_count": null,
   "metadata": {},
   "outputs": [],
   "source": [
    "a = classify.delay(model_path='model.h5', data_path='data')"
   ]
  },
  {
   "cell_type": "code",
   "execution_count": null,
   "metadata": {},
   "outputs": [],
   "source": [
    "paths = a.get()"
   ]
  },
  {
   "cell_type": "code",
   "execution_count": null,
   "metadata": {},
   "outputs": [],
   "source": [
    "for p in paths:\n",
    "    display(Image(p, width=200, height=200))"
   ]
  },
  {
   "cell_type": "code",
   "execution_count": 1,
   "metadata": {},
   "outputs": [],
   "source": [
    "import itertools"
   ]
  },
  {
   "cell_type": "code",
   "execution_count": 2,
   "metadata": {},
   "outputs": [
    {
     "data": {
      "text/plain": [
       "[{'numPCAcomponents': 15, 'testRatio': 0.1, 'windowSize': 5},\n",
       " {'numPCAcomponents': 15, 'testRatio': 0.25, 'windowSize': 5},\n",
       " {'numPCAcomponents': 15, 'testRatio': 0.1, 'windowSize': 15},\n",
       " {'numPCAcomponents': 15, 'testRatio': 0.25, 'windowSize': 15},\n",
       " {'numPCAcomponents': 30, 'testRatio': 0.1, 'windowSize': 5},\n",
       " {'numPCAcomponents': 30, 'testRatio': 0.25, 'windowSize': 5},\n",
       " {'numPCAcomponents': 30, 'testRatio': 0.1, 'windowSize': 15},\n",
       " {'numPCAcomponents': 30, 'testRatio': 0.25, 'windowSize': 15},\n",
       " {'numPCAcomponents': 60, 'testRatio': 0.1, 'windowSize': 5},\n",
       " {'numPCAcomponents': 60, 'testRatio': 0.25, 'windowSize': 5},\n",
       " {'numPCAcomponents': 60, 'testRatio': 0.1, 'windowSize': 15},\n",
       " {'numPCAcomponents': 60, 'testRatio': 0.25, 'windowSize': 15}]"
      ]
     },
     "execution_count": 2,
     "metadata": {},
     "output_type": "execute_result"
    }
   ],
   "source": [
    "sweep = [dict(m) for m in itertools.product(\n",
    "    [('numPCAcomponents', v) for v in (15, 30, 60)],\n",
    "    [('windowSize', v) for v in (5, 15)],\n",
    "    [('testRatio', v) for v in (0.10, 0.25)]\n",
    ")]\n",
    "sweep"
   ]
  },
  {
   "cell_type": "code",
   "execution_count": 4,
   "metadata": {},
   "outputs": [],
   "source": [
    "def model_name(**kwargs):\n",
    "    return \"model_n{numPCAcomponents}t{testRatio}w{windowSize}.h5\".format(**kwargs)"
   ]
  },
  {
   "cell_type": "code",
   "execution_count": 9,
   "metadata": {
    "scrolled": true
   },
   "outputs": [
    {
     "name": "stdout",
     "output_type": "stream",
     "text": [
      "[2018-04-02 19:10:02,653] WARNING: Girder job not created: Parent task is None\n",
      "[2018-04-02 19:10:02,654] WARNING: Could not get girder_api_url from parent task: Parent task is None\n",
      "[2018-04-02 19:10:02,654] WARNING: Could not get token from parent task: Parent task is None\n",
      "[2018-04-02 19:10:02,680] WARNING: Girder job not created: Parent task is None\n",
      "[2018-04-02 19:10:02,680] WARNING: Could not get girder_api_url from parent task: Parent task is None\n",
      "[2018-04-02 19:10:02,680] WARNING: Could not get token from parent task: Parent task is None\n",
      "[2018-04-02 19:10:02,685] WARNING: Girder job not created: Parent task is None\n",
      "[2018-04-02 19:10:02,685] WARNING: Could not get girder_api_url from parent task: Parent task is None\n",
      "[2018-04-02 19:10:02,685] WARNING: Could not get token from parent task: Parent task is None\n",
      "[2018-04-02 19:10:02,691] WARNING: Girder job not created: Parent task is None\n",
      "[2018-04-02 19:10:02,691] WARNING: Could not get girder_api_url from parent task: Parent task is None\n",
      "[2018-04-02 19:10:02,691] WARNING: Could not get token from parent task: Parent task is None\n",
      "[2018-04-02 19:10:02,697] WARNING: Girder job not created: Parent task is None\n",
      "[2018-04-02 19:10:02,697] WARNING: Could not get girder_api_url from parent task: Parent task is None\n",
      "[2018-04-02 19:10:02,697] WARNING: Could not get token from parent task: Parent task is None\n",
      "[2018-04-02 19:10:02,702] WARNING: Girder job not created: Parent task is None\n",
      "[2018-04-02 19:10:02,702] WARNING: Could not get girder_api_url from parent task: Parent task is None\n",
      "[2018-04-02 19:10:02,702] WARNING: Could not get token from parent task: Parent task is None\n",
      "[2018-04-02 19:10:02,705] WARNING: Girder job not created: Parent task is None\n",
      "[2018-04-02 19:10:02,705] WARNING: Could not get girder_api_url from parent task: Parent task is None\n",
      "[2018-04-02 19:10:02,706] WARNING: Could not get token from parent task: Parent task is None\n",
      "[2018-04-02 19:10:02,713] WARNING: Girder job not created: Parent task is None\n",
      "[2018-04-02 19:10:02,713] WARNING: Could not get girder_api_url from parent task: Parent task is None\n",
      "[2018-04-02 19:10:02,713] WARNING: Could not get token from parent task: Parent task is None\n",
      "[2018-04-02 19:10:02,717] WARNING: Girder job not created: Parent task is None\n",
      "[2018-04-02 19:10:02,717] WARNING: Could not get girder_api_url from parent task: Parent task is None\n",
      "[2018-04-02 19:10:02,717] WARNING: Could not get token from parent task: Parent task is None\n",
      "[2018-04-02 19:10:02,724] WARNING: Girder job not created: Parent task is None\n",
      "[2018-04-02 19:10:02,725] WARNING: Could not get girder_api_url from parent task: Parent task is None\n",
      "[2018-04-02 19:10:02,725] WARNING: Could not get token from parent task: Parent task is None\n",
      "[2018-04-02 19:10:02,728] WARNING: Girder job not created: Parent task is None\n",
      "[2018-04-02 19:10:02,728] WARNING: Could not get girder_api_url from parent task: Parent task is None\n",
      "[2018-04-02 19:10:02,729] WARNING: Could not get token from parent task: Parent task is None\n",
      "[2018-04-02 19:10:02,736] WARNING: Girder job not created: Parent task is None\n",
      "[2018-04-02 19:10:02,736] WARNING: Could not get girder_api_url from parent task: Parent task is None\n",
      "[2018-04-02 19:10:02,736] WARNING: Could not get token from parent task: Parent task is None\n"
     ]
    }
   ],
   "source": [
    "a = group([validate.s(\n",
    "    test_data_path='split', model_path=model_name(**kwargs)) for kwargs in sweep]).delay()"
   ]
  },
  {
   "cell_type": "code",
   "execution_count": 10,
   "metadata": {},
   "outputs": [],
   "source": [
    "vals = a.get()"
   ]
  },
  {
   "cell_type": "code",
   "execution_count": 18,
   "metadata": {},
   "outputs": [
    {
     "data": {
      "text/plain": [
       "[('model_n60t0.25w15.h5', 83.84705423332034),\n",
       " ('model_n30t0.1w15.h5', 83.80803745610612),\n",
       " ('model_n15t0.1w5.h5', 83.5349200156067),\n",
       " ('model_n15t0.1w15.h5', 83.5349200156067),\n",
       " ('model_n30t0.25w15.h5', 83.4568864611783),\n",
       " ('model_n60t0.1w5.h5', 83.1837690206789),\n",
       " ('model_n30t0.25w5.h5', 83.10573546625048),\n",
       " ('model_n60t0.25w5.h5', 83.06671868903629),\n",
       " ('model_n60t0.1w15.h5', 82.91065158017948),\n",
       " ('model_n15t0.25w15.h5', 82.67655091689427),\n",
       " ('model_n15t0.25w5.h5', 82.63753413968006),\n",
       " ('model_n30t0.1w5.h5', 81.97424892703863)]"
      ]
     },
     "execution_count": 18,
     "metadata": {},
     "output_type": "execute_result"
    }
   ],
   "source": [
    "sorted([(v[0], v[1][1]) for v in \n",
    " zip([model_name(**kwargs) for kwargs in sweep], vals)],\n",
    "      key=lambda v: v[1], reverse=True)"
   ]
  }
 ],
 "metadata": {
  "kernelspec": {
   "display_name": "Python 3",
   "language": "python",
   "name": "python3"
  },
  "language_info": {
   "codemirror_mode": {
    "name": "ipython",
    "version": 3
   },
   "file_extension": ".py",
   "mimetype": "text/x-python",
   "name": "python",
   "nbconvert_exporter": "python",
   "pygments_lexer": "ipython3",
   "version": "3.6.4"
  }
 },
 "nbformat": 4,
 "nbformat_minor": 2
}
