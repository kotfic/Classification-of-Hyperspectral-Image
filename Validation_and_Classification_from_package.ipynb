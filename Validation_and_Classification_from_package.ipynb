{
 "cells": [
  {
   "cell_type": "code",
   "execution_count": 1,
   "metadata": {},
   "outputs": [
    {
     "name": "stderr",
     "output_type": "stream",
     "text": [
      "/home/kotfic/.venvs/hpcmp_wesley_notebooks/lib/python3.6/site-packages/h5py/__init__.py:36: FutureWarning: Conversion of the second argument of issubdtype from `float` to `np.floating` is deprecated. In future, it will be treated as `np.float64 == np.dtype(float).type`.\n",
      "  from ._conv import register_converters as _register_converters\n",
      "Using TensorFlow backend.\n"
     ]
    }
   ],
   "source": [
    "from indian_pines_cnn_classification.validate import (\n",
    "    loadIndianPinesData,\n",
    "    loadTestData,\n",
    "    loadModel,\n",
    "    validate,\n",
    "    classify\n",
    ")"
   ]
  },
  {
   "cell_type": "code",
   "execution_count": 2,
   "metadata": {},
   "outputs": [
    {
     "name": "stdout",
     "output_type": "stream",
     "text": [
      "WARNING:tensorflow:Variable *= will be deprecated. Use variable.assign_mul if you want assignment to the variable value or 'x = x * y' if you want a new python Tensor object.\n"
     ]
    }
   ],
   "source": [
    "model = loadModel()\n",
    "X_test, y_test = loadTestData()"
   ]
  },
  {
   "cell_type": "code",
   "execution_count": 3,
   "metadata": {},
   "outputs": [
    {
     "name": "stdout",
     "output_type": "stream",
     "text": [
      "2563/2563 [==============================] - 0s 157us/step\n"
     ]
    }
   ],
   "source": [
    "loss, accuracy, cls, confusion = validate(model, X_test, y_test)"
   ]
  },
  {
   "cell_type": "code",
   "execution_count": 4,
   "metadata": {},
   "outputs": [
    {
     "name": "stdout",
     "output_type": "stream",
     "text": [
      "Loss:     50.27097697677531\n",
      "Accuracy: 83.33983612953571\n"
     ]
    }
   ],
   "source": [
    "print(\"Loss:     {}\".format(loss))\n",
    "print(\"Accuracy: {}\".format(accuracy))"
   ]
  },
  {
   "cell_type": "code",
   "execution_count": 5,
   "metadata": {},
   "outputs": [
    {
     "name": "stdout",
     "output_type": "stream",
     "text": [
      "                              precision    recall  f1-score   support\n",
      "\n",
      "                     Alfalfa       1.00      1.00      1.00        11\n",
      "                 Corn-notill       0.72      0.76      0.74       357\n",
      "                Corn-mintill       0.73      0.84      0.78       208\n",
      "                        Corn       0.75      0.90      0.82        59\n",
      "               Grass-pasture       0.97      0.96      0.96       121\n",
      "                 Grass-trees       0.99      0.98      0.99       183\n",
      "         Grass-pasture-mowed       1.00      1.00      1.00         7\n",
      "               Hay-windrowed       1.00      1.00      1.00       120\n",
      "                        Oats       0.83      1.00      0.91         5\n",
      "              Soybean-notill       0.69      0.81      0.74       243\n",
      "             Soybean-mintill       0.87      0.68      0.76       614\n",
      "               Soybean-clean       0.68      0.80      0.74       148\n",
      "                       Wheat       0.98      1.00      0.99        51\n",
      "                       Woods       0.98      0.97      0.97       316\n",
      "Buildings-Grass-Trees-Drives       0.84      0.94      0.89        97\n",
      "          Stone-Steel-Towers       0.96      1.00      0.98        23\n",
      "\n",
      "                 avg / total       0.84      0.83      0.83      2563\n",
      "\n"
     ]
    }
   ],
   "source": [
    "print(cls)"
   ]
  },
  {
   "cell_type": "code",
   "execution_count": 6,
   "metadata": {},
   "outputs": [
    {
     "name": "stdout",
     "output_type": "stream",
     "text": [
      "[[ 11   0   0   0   0   0   0   0   0   0   0   0   0   0   0   0]\n",
      " [  0 271  14   8   0   0   0   0   0  29  22  13   0   0   0   0]\n",
      " [  0   9 175   5   0   0   0   0   0   8   7   4   0   0   0   0]\n",
      " [  0   2   3  53   0   0   0   0   0   0   1   0   0   0   0   0]\n",
      " [  0   1   0   1 116   0   0   0   0   0   0   0   0   2   1   0]\n",
      " [  0   0   0   0   0 179   0   0   0   0   0   0   0   0   4   0]\n",
      " [  0   0   0   0   0   0   7   0   0   0   0   0   0   0   0   0]\n",
      " [  0   0   0   0   0   0   0 120   0   0   0   0   0   0   0   0]\n",
      " [  0   0   0   0   0   0   0   0   5   0   0   0   0   0   0   0]\n",
      " [  0   2   7   0   1   0   0   0   0 196  32   4   0   0   1   0]\n",
      " [  0  82  36   1   0   0   0   0   0  44 415  34   1   0   1   0]\n",
      " [  0  10   4   3   1   0   0   0   0   8   2 118   0   0   1   1]\n",
      " [  0   0   0   0   0   0   0   0   0   0   0   0  51   0   0   0]\n",
      " [  0   0   0   0   2   0   0   0   0   0   0   0   0 305   9   0]\n",
      " [  0   0   0   0   0   1   0   0   1   0   0   0   0   4  91   0]\n",
      " [  0   0   0   0   0   0   0   0   0   0   0   0   0   0   0  23]]\n"
     ]
    }
   ],
   "source": [
    "print(confusion)"
   ]
  },
  {
   "cell_type": "code",
   "execution_count": 7,
   "metadata": {},
   "outputs": [],
   "source": [
    "X, y = loadIndianPinesData()"
   ]
  },
  {
   "cell_type": "code",
   "execution_count": 15,
   "metadata": {},
   "outputs": [],
   "source": [
    "outputs = classify(model, X, y)"
   ]
  },
  {
   "cell_type": "code",
   "execution_count": 16,
   "metadata": {},
   "outputs": [],
   "source": [
    "import spectral"
   ]
  },
  {
   "cell_type": "code",
   "execution_count": 17,
   "metadata": {},
   "outputs": [
    {
     "data": {
      "image/png": "[encoded data removed]",
      "text/plain": [
       "<Figure size 360x360 with 1 Axes>"
      ]
     },
     "metadata": {},
     "output_type": "display_data"
    }
   ],
   "source": [
    "ground_truth = spectral.imshow(classes = y,figsize =(5,5))"
   ]
  },
  {
   "cell_type": "code",
   "execution_count": 18,
   "metadata": {},
   "outputs": [
    {
     "data": {
      "image/png": "[encoded data removed]",
      "text/plain": [
       "<Figure size 360x360 with 1 Axes>"
      ]
     },
     "metadata": {},
     "output_type": "display_data"
    }
   ],
   "source": [
    "predict_image = spectral.imshow(classes = outputs.astype(int),figsize =(5,5))"
   ]
  }
 ],
 "metadata": {
  "kernelspec": {
   "display_name": "Python 3",
   "language": "python",
   "name": "python3"
  },
  "language_info": {
   "codemirror_mode": {
    "name": "ipython",
    "version": 3
   },
   "file_extension": ".py",
   "mimetype": "text/x-python",
   "name": "python",
   "nbconvert_exporter": "python",
   "pygments_lexer": "ipython3",
   "version": "3.6.4"
  }
 },
 "nbformat": 4,
 "nbformat_minor": 2
}
