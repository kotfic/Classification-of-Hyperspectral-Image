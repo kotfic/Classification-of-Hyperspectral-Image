{
 "cells": [
  {
   "cell_type": "code",
   "execution_count": 1,
   "metadata": {},
   "outputs": [
    {
     "name": "stderr",
     "output_type": "stream",
     "text": [
      "/home/kotfic/.venvs/hpcmp_demo_04162018/lib/python3.6/site-packages/h5py/__init__.py:36: FutureWarning: Conversion of the second argument of issubdtype from `float` to `np.floating` is deprecated. In future, it will be treated as `np.float64 == np.dtype(float).type`.\n",
      "  from ._conv import register_converters as _register_converters\n",
      "Using TensorFlow backend.\n"
     ]
    }
   ],
   "source": [
    "from indian_pines_cnn_classification.train import train_model"
   ]
  },
  {
   "cell_type": "code",
   "execution_count": null,
   "metadata": {},
   "outputs": [],
   "source": [
    "a = train_model.delay(data_path='split', model_path='model.h5')"
   ]
  },
  {
   "cell_type": "code",
   "execution_count": null,
   "metadata": {},
   "outputs": [],
   "source": [
    "a.ready()"
   ]
  },
  {
   "cell_type": "code",
   "execution_count": null,
   "metadata": {},
   "outputs": [],
   "source": [
    "a.get()"
   ]
  },
  {
   "cell_type": "code",
   "execution_count": 2,
   "metadata": {},
   "outputs": [],
   "source": [
    "import itertools\n",
    "from celery.canvas import group"
   ]
  },
  {
   "cell_type": "code",
   "execution_count": 4,
   "metadata": {},
   "outputs": [
    {
     "data": {
      "text/plain": [
       "[{'numPCAcomponents': 15, 'testRatio': 0.1, 'windowSize': 5},\n",
       " {'numPCAcomponents': 15, 'testRatio': 0.25, 'windowSize': 5},\n",
       " {'numPCAcomponents': 15, 'testRatio': 0.1, 'windowSize': 15},\n",
       " {'numPCAcomponents': 15, 'testRatio': 0.25, 'windowSize': 15},\n",
       " {'numPCAcomponents': 30, 'testRatio': 0.1, 'windowSize': 5},\n",
       " {'numPCAcomponents': 30, 'testRatio': 0.25, 'windowSize': 5},\n",
       " {'numPCAcomponents': 30, 'testRatio': 0.1, 'windowSize': 15},\n",
       " {'numPCAcomponents': 30, 'testRatio': 0.25, 'windowSize': 15},\n",
       " {'numPCAcomponents': 60, 'testRatio': 0.1, 'windowSize': 5},\n",
       " {'numPCAcomponents': 60, 'testRatio': 0.25, 'windowSize': 5},\n",
       " {'numPCAcomponents': 60, 'testRatio': 0.1, 'windowSize': 15},\n",
       " {'numPCAcomponents': 60, 'testRatio': 0.25, 'windowSize': 15}]"
      ]
     },
     "execution_count": 4,
     "metadata": {},
     "output_type": "execute_result"
    }
   ],
   "source": [
    "sweep = [dict(m) for m in itertools.product(\n",
    "    [('numPCAcomponents', v) for v in (15, 30, 60)],\n",
    "    [('windowSize', v) for v in (5, 15)],\n",
    "    [('testRatio', v) for v in (0.10, 0.25)]\n",
    ")]\n",
    "sweep"
   ]
  },
  {
   "cell_type": "code",
   "execution_count": 9,
   "metadata": {},
   "outputs": [],
   "source": [
    "def model_name(**kwargs):\n",
    "    return \"model_n{numPCAcomponents}t{testRatio}w{windowSize}.h5\".format(**kwargs)"
   ]
  },
  {
   "cell_type": "code",
   "execution_count": 16,
   "metadata": {},
   "outputs": [
    {
     "name": "stdout",
     "output_type": "stream",
     "text": [
      "[2018-04-02 19:00:51,556] WARNING: Girder job not created: Parent task is None\n",
      "[2018-04-02 19:00:51,557] WARNING: Could not get girder_api_url from parent task: Parent task is None\n",
      "[2018-04-02 19:00:51,557] WARNING: Could not get token from parent task: Parent task is None\n",
      "[2018-04-02 19:00:51,560] WARNING: Girder job not created: Parent task is None\n",
      "[2018-04-02 19:00:51,561] WARNING: Could not get girder_api_url from parent task: Parent task is None\n",
      "[2018-04-02 19:00:51,561] WARNING: Could not get token from parent task: Parent task is None\n",
      "[2018-04-02 19:00:51,564] WARNING: Girder job not created: Parent task is None\n",
      "[2018-04-02 19:00:51,564] WARNING: Could not get girder_api_url from parent task: Parent task is None\n",
      "[2018-04-02 19:00:51,564] WARNING: Could not get token from parent task: Parent task is None\n",
      "[2018-04-02 19:00:51,567] WARNING: Girder job not created: Parent task is None\n",
      "[2018-04-02 19:00:51,568] WARNING: Could not get girder_api_url from parent task: Parent task is None\n",
      "[2018-04-02 19:00:51,568] WARNING: Could not get token from parent task: Parent task is None\n",
      "[2018-04-02 19:00:51,571] WARNING: Girder job not created: Parent task is None\n",
      "[2018-04-02 19:00:51,571] WARNING: Could not get girder_api_url from parent task: Parent task is None\n",
      "[2018-04-02 19:00:51,571] WARNING: Could not get token from parent task: Parent task is None\n",
      "[2018-04-02 19:00:51,573] WARNING: Girder job not created: Parent task is None\n",
      "[2018-04-02 19:00:51,573] WARNING: Could not get girder_api_url from parent task: Parent task is None\n",
      "[2018-04-02 19:00:51,574] WARNING: Could not get token from parent task: Parent task is None\n",
      "[2018-04-02 19:00:51,575] WARNING: Girder job not created: Parent task is None\n",
      "[2018-04-02 19:00:51,575] WARNING: Could not get girder_api_url from parent task: Parent task is None\n",
      "[2018-04-02 19:00:51,575] WARNING: Could not get token from parent task: Parent task is None\n",
      "[2018-04-02 19:00:51,577] WARNING: Girder job not created: Parent task is None\n",
      "[2018-04-02 19:00:51,577] WARNING: Could not get girder_api_url from parent task: Parent task is None\n",
      "[2018-04-02 19:00:51,577] WARNING: Could not get token from parent task: Parent task is None\n",
      "[2018-04-02 19:00:51,579] WARNING: Girder job not created: Parent task is None\n",
      "[2018-04-02 19:00:51,579] WARNING: Could not get girder_api_url from parent task: Parent task is None\n",
      "[2018-04-02 19:00:51,579] WARNING: Could not get token from parent task: Parent task is None\n",
      "[2018-04-02 19:00:51,581] WARNING: Girder job not created: Parent task is None\n",
      "[2018-04-02 19:00:51,581] WARNING: Could not get girder_api_url from parent task: Parent task is None\n",
      "[2018-04-02 19:00:51,581] WARNING: Could not get token from parent task: Parent task is None\n",
      "[2018-04-02 19:00:51,583] WARNING: Girder job not created: Parent task is None\n",
      "[2018-04-02 19:00:51,583] WARNING: Could not get girder_api_url from parent task: Parent task is None\n",
      "[2018-04-02 19:00:51,583] WARNING: Could not get token from parent task: Parent task is None\n",
      "[2018-04-02 19:00:51,584] WARNING: Girder job not created: Parent task is None\n",
      "[2018-04-02 19:00:51,585] WARNING: Could not get girder_api_url from parent task: Parent task is None\n",
      "[2018-04-02 19:00:51,585] WARNING: Could not get token from parent task: Parent task is None\n"
     ]
    }
   ],
   "source": [
    "a = group([train_model.s(\n",
    "    data_path='split', model_path=model_name(**kwargs))\n",
    " for kwargs in sweep]).delay()"
   ]
  },
  {
   "cell_type": "code",
   "execution_count": 25,
   "metadata": {},
   "outputs": [
    {
     "name": "stdout",
     "output_type": "stream",
     "text": [
      "True\n"
     ]
    },
    {
     "data": {
      "text/plain": [
       "12"
      ]
     },
     "execution_count": 25,
     "metadata": {},
     "output_type": "execute_result"
    }
   ],
   "source": [
    "print(a.ready())\n",
    "a.completed_count()"
   ]
  },
  {
   "cell_type": "code",
   "execution_count": null,
   "metadata": {},
   "outputs": [],
   "source": []
  }
 ],
 "metadata": {
  "kernelspec": {
   "display_name": "Python 3",
   "language": "python",
   "name": "python3"
  },
  "language_info": {
   "codemirror_mode": {
    "name": "ipython",
    "version": 3
   },
   "file_extension": ".py",
   "mimetype": "text/x-python",
   "name": "python",
   "nbconvert_exporter": "python",
   "pygments_lexer": "ipython3",
   "version": "3.6.4"
  }
 },
 "nbformat": 4,
 "nbformat_minor": 2
}
