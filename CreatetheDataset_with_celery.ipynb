{
 "cells": [
  {
   "cell_type": "code",
   "execution_count": 10,
   "metadata": {},
   "outputs": [],
   "source": [
    "from indian_pines_cnn_classification.create import preprocess_data"
   ]
  },
  {
   "cell_type": "code",
   "execution_count": null,
   "metadata": {},
   "outputs": [],
   "source": [
    "a = preprocess_data.delay(data_path=\"data\", output_path=\"split\")"
   ]
  },
  {
   "cell_type": "code",
   "execution_count": null,
   "metadata": {},
   "outputs": [],
   "source": [
    "a.ready()"
   ]
  },
  {
   "cell_type": "code",
   "execution_count": null,
   "metadata": {},
   "outputs": [],
   "source": [
    "a.get()"
   ]
  },
  {
   "cell_type": "code",
   "execution_count": 12,
   "metadata": {},
   "outputs": [],
   "source": [
    "import itertools\n",
    "from celery.canvas import group"
   ]
  },
  {
   "cell_type": "code",
   "execution_count": 28,
   "metadata": {},
   "outputs": [
    {
     "data": {
      "text/plain": [
       "[{'numComponents': 15, 'testRatio': 0.1, 'windowSize': 5},\n",
       " {'numComponents': 15, 'testRatio': 0.25, 'windowSize': 5},\n",
       " {'numComponents': 15, 'testRatio': 0.1, 'windowSize': 15},\n",
       " {'numComponents': 15, 'testRatio': 0.25, 'windowSize': 15},\n",
       " {'numComponents': 30, 'testRatio': 0.1, 'windowSize': 5},\n",
       " {'numComponents': 30, 'testRatio': 0.25, 'windowSize': 5},\n",
       " {'numComponents': 30, 'testRatio': 0.1, 'windowSize': 15},\n",
       " {'numComponents': 30, 'testRatio': 0.25, 'windowSize': 15},\n",
       " {'numComponents': 60, 'testRatio': 0.1, 'windowSize': 5},\n",
       " {'numComponents': 60, 'testRatio': 0.25, 'windowSize': 5},\n",
       " {'numComponents': 60, 'testRatio': 0.1, 'windowSize': 15},\n",
       " {'numComponents': 60, 'testRatio': 0.25, 'windowSize': 15}]"
      ]
     },
     "execution_count": 28,
     "metadata": {},
     "output_type": "execute_result"
    }
   ],
   "source": [
    "sweep = [dict(m) for m in itertools.product(\n",
    "    [('numComponents', v) for v in (15, 30, 60)],\n",
    "    [('windowSize', v) for v in (5, 15)],\n",
    "    [('testRatio', v) for v in (0.10, 0.25)]\n",
    ")]\n",
    "sweep"
   ]
  },
  {
   "cell_type": "code",
   "execution_count": 23,
   "metadata": {},
   "outputs": [
    {
     "name": "stdout",
     "output_type": "stream",
     "text": [
      "[2018-04-02 18:46:47,843] WARNING: Girder job not created: Parent task is None\n",
      "[2018-04-02 18:46:47,844] WARNING: Could not get girder_api_url from parent task: Parent task is None\n",
      "[2018-04-02 18:46:47,844] WARNING: Could not get token from parent task: Parent task is None\n",
      "[2018-04-02 18:46:47,847] WARNING: Girder job not created: Parent task is None\n",
      "[2018-04-02 18:46:47,847] WARNING: Could not get girder_api_url from parent task: Parent task is None\n",
      "[2018-04-02 18:46:47,847] WARNING: Could not get token from parent task: Parent task is None\n",
      "[2018-04-02 18:46:47,849] WARNING: Girder job not created: Parent task is None\n",
      "[2018-04-02 18:46:47,849] WARNING: Could not get girder_api_url from parent task: Parent task is None\n",
      "[2018-04-02 18:46:47,849] WARNING: Could not get token from parent task: Parent task is None\n",
      "[2018-04-02 18:46:47,850] WARNING: Girder job not created: Parent task is None\n",
      "[2018-04-02 18:46:47,850] WARNING: Could not get girder_api_url from parent task: Parent task is None\n",
      "[2018-04-02 18:46:47,851] WARNING: Could not get token from parent task: Parent task is None\n",
      "[2018-04-02 18:46:47,854] WARNING: Girder job not created: Parent task is None\n",
      "[2018-04-02 18:46:47,854] WARNING: Could not get girder_api_url from parent task: Parent task is None\n",
      "[2018-04-02 18:46:47,854] WARNING: Could not get token from parent task: Parent task is None\n",
      "[2018-04-02 18:46:47,858] WARNING: Girder job not created: Parent task is None\n",
      "[2018-04-02 18:46:47,858] WARNING: Could not get girder_api_url from parent task: Parent task is None\n",
      "[2018-04-02 18:46:47,858] WARNING: Could not get token from parent task: Parent task is None\n",
      "[2018-04-02 18:46:47,861] WARNING: Girder job not created: Parent task is None\n",
      "[2018-04-02 18:46:47,862] WARNING: Could not get girder_api_url from parent task: Parent task is None\n",
      "[2018-04-02 18:46:47,862] WARNING: Could not get token from parent task: Parent task is None\n",
      "[2018-04-02 18:46:47,865] WARNING: Girder job not created: Parent task is None\n",
      "[2018-04-02 18:46:47,865] WARNING: Could not get girder_api_url from parent task: Parent task is None\n",
      "[2018-04-02 18:46:47,865] WARNING: Could not get token from parent task: Parent task is None\n",
      "[2018-04-02 18:46:47,867] WARNING: Girder job not created: Parent task is None\n",
      "[2018-04-02 18:46:47,867] WARNING: Could not get girder_api_url from parent task: Parent task is None\n",
      "[2018-04-02 18:46:47,867] WARNING: Could not get token from parent task: Parent task is None\n",
      "[2018-04-02 18:46:47,869] WARNING: Girder job not created: Parent task is None\n",
      "[2018-04-02 18:46:47,869] WARNING: Could not get girder_api_url from parent task: Parent task is None\n",
      "[2018-04-02 18:46:47,870] WARNING: Could not get token from parent task: Parent task is None\n",
      "[2018-04-02 18:46:47,871] WARNING: Girder job not created: Parent task is None\n",
      "[2018-04-02 18:46:47,871] WARNING: Could not get girder_api_url from parent task: Parent task is None\n",
      "[2018-04-02 18:46:47,872] WARNING: Could not get token from parent task: Parent task is None\n",
      "[2018-04-02 18:46:47,873] WARNING: Girder job not created: Parent task is None\n",
      "[2018-04-02 18:46:47,873] WARNING: Could not get girder_api_url from parent task: Parent task is None\n",
      "[2018-04-02 18:46:47,873] WARNING: Could not get token from parent task: Parent task is None\n"
     ]
    }
   ],
   "source": [
    "a = group([preprocess_data.s(data_path=\"data\", output_path=\"split\", **kwargs) \n",
    " for kwargs in sweep]).delay()\n"
   ]
  },
  {
   "cell_type": "code",
   "execution_count": 27,
   "metadata": {},
   "outputs": [
    {
     "name": "stdout",
     "output_type": "stream",
     "text": [
      "True\n"
     ]
    },
    {
     "data": {
      "text/plain": [
       "12"
      ]
     },
     "execution_count": 27,
     "metadata": {},
     "output_type": "execute_result"
    }
   ],
   "source": [
    "print(a.ready())\n",
    "a.completed_count()"
   ]
  }
 ],
 "metadata": {
  "kernelspec": {
   "display_name": "Python 3",
   "language": "python",
   "name": "python3"
  },
  "language_info": {
   "codemirror_mode": {
    "name": "ipython",
    "version": 3
   },
   "file_extension": ".py",
   "mimetype": "text/x-python",
   "name": "python",
   "nbconvert_exporter": "python",
   "pygments_lexer": "ipython3",
   "version": "3.6.4"
  }
 },
 "nbformat": 4,
 "nbformat_minor": 2
}
