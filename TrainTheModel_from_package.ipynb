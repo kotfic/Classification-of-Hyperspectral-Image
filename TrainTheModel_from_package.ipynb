{
 "cells": [
  {
   "cell_type": "code",
   "execution_count": 1,
   "metadata": {},
   "outputs": [
    {
     "name": "stderr",
     "output_type": "stream",
     "text": [
      "/home/kotfic/.venvs/hpcmp_wesley_notebooks/lib/python3.6/site-packages/h5py/__init__.py:36: FutureWarning: Conversion of the second argument of issubdtype from `float` to `np.floating` is deprecated. In future, it will be treated as `np.float64 == np.dtype(float).type`.\n",
      "  from ._conv import register_converters as _register_converters\n",
      "Using TensorFlow backend.\n"
     ]
    }
   ],
   "source": [
    "from indian_pines_cnn_classification.train import (\n",
    "    loadTrainingDataset,\n",
    "    trainModel,\n",
    "    saveModel)"
   ]
  },
  {
   "cell_type": "code",
   "execution_count": 2,
   "metadata": {},
   "outputs": [],
   "source": [
    "X_train, y_train = loadTrainingDataset()"
   ]
  },
  {
   "cell_type": "code",
   "execution_count": 3,
   "metadata": {},
   "outputs": [
    {
     "name": "stdout",
     "output_type": "stream",
     "text": [
      "(30, 5, 5)\n",
      "WARNING:tensorflow:Variable *= will be deprecated. Use variable.assign_mul if you want assignment to the variable value or 'x = x * y' if you want a new python Tensor object.\n",
      "Epoch 1/15\n",
      "29685/29685 [==============================] - 9s 294us/step - loss: 2.5225 - acc: 0.2124\n",
      "Epoch 2/15\n",
      "29685/29685 [==============================] - 9s 293us/step - loss: 1.9608 - acc: 0.4444\n",
      "Epoch 3/15\n",
      "29685/29685 [==============================] - 9s 296us/step - loss: 1.4425 - acc: 0.5858\n",
      "Epoch 4/15\n",
      "29685/29685 [==============================] - 9s 301us/step - loss: 1.1156 - acc: 0.6597\n",
      "Epoch 5/15\n",
      "29685/29685 [==============================] - 9s 300us/step - loss: 0.9030 - acc: 0.7148\n",
      "Epoch 6/15\n",
      "29685/29685 [==============================] - 9s 297us/step - loss: 0.7843 - acc: 0.7456\n",
      "Epoch 7/15\n",
      "29685/29685 [==============================] - 9s 301us/step - loss: 0.7000 - acc: 0.7671\n",
      "Epoch 8/15\n",
      "29685/29685 [==============================] - 9s 292us/step - loss: 0.6349 - acc: 0.7908\n",
      "Epoch 9/15\n",
      "29685/29685 [==============================] - 9s 299us/step - loss: 0.5758 - acc: 0.8060\n",
      "Epoch 10/15\n",
      "29685/29685 [==============================] - 9s 295us/step - loss: 0.5316 - acc: 0.8223\n",
      "Epoch 11/15\n",
      "29685/29685 [==============================] - 9s 296us/step - loss: 0.4953 - acc: 0.8348\n",
      "Epoch 12/15\n",
      "29685/29685 [==============================] - 9s 296us/step - loss: 0.4591 - acc: 0.8471\n",
      "Epoch 13/15\n",
      "29685/29685 [==============================] - 9s 297us/step - loss: 0.4259 - acc: 0.8603\n",
      "Epoch 14/15\n",
      "29685/29685 [==============================] - 9s 299us/step - loss: 0.4054 - acc: 0.8667\n",
      "Epoch 15/15\n",
      "29685/29685 [==============================] - 8s 283us/step - loss: 0.3802 - acc: 0.8753\n"
     ]
    }
   ],
   "source": [
    "model = trainModel(X_train, y_train)"
   ]
  },
  {
   "cell_type": "code",
   "execution_count": 5,
   "metadata": {},
   "outputs": [],
   "source": [
    "saveModel(model)"
   ]
  }
 ],
 "metadata": {
  "kernelspec": {
   "display_name": "Python 3",
   "language": "python",
   "name": "python3"
  },
  "language_info": {
   "codemirror_mode": {
    "name": "ipython",
    "version": 3
   },
   "file_extension": ".py",
   "mimetype": "text/x-python",
   "name": "python",
   "nbconvert_exporter": "python",
   "pygments_lexer": "ipython3",
   "version": "3.6.4"
  }
 },
 "nbformat": 4,
 "nbformat_minor": 2
}
